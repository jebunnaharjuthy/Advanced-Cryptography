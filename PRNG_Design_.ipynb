{
  "nbformat": 4,
  "nbformat_minor": 0,
  "metadata": {
    "colab": {
      "provenance": [],
      "authorship_tag": "ABX9TyOzysuyXJgjXWYlfl7d5y6r",
      "include_colab_link": true
    },
    "kernelspec": {
      "name": "python3",
      "display_name": "Python 3"
    },
    "language_info": {
      "name": "python"
    }
  },
  "cells": [
    {
      "cell_type": "markdown",
      "metadata": {
        "id": "view-in-github",
        "colab_type": "text"
      },
      "source": [
        "<a href=\"https://colab.research.google.com/github/jebunnaharjuthy/Advanced-Cryptography/blob/main/PRNG_Design_.ipynb\" target=\"_parent\"><img src=\"https://colab.research.google.com/assets/colab-badge.svg\" alt=\"Open In Colab\"/></a>"
      ]
    },
    {
      "cell_type": "markdown",
      "source": [
        "**PRNG Design**"
      ],
      "metadata": {
        "id": "EBN-VEq7XJI_"
      }
    },
    {
      "cell_type": "code",
      "source": [
        "# Python3 code to implement the\n",
        "# approach\n",
        "import random\n",
        "from datetime import datetime\n",
        "import time\n",
        "import os\n",
        "x = time.time_ns()\n",
        "y = os.getpid()%10\n",
        "seed= 3*x*x + 4*x + y\n",
        "# Passing the current time\n",
        "print(seed)\n",
        "print(seed%10000)"
      ],
      "metadata": {
        "colab": {
          "base_uri": "https://localhost:8080/"
        },
        "id": "H1OUT0kgX1NS",
        "outputId": "6f09c9c2-79b1-42a6-fc08-83e4fd9ab756"
      },
      "execution_count": 12,
      "outputs": [
        {
          "output_type": "stream",
          "name": "stdout",
          "text": [
            "8988689182511328178566774161777912207\n",
            "2207\n"
          ]
        }
      ]
    },
    {
      "cell_type": "code",
      "source": [
        "# Python3 code to implement the\n",
        "# approach\n",
        "import random\n",
        "from datetime import datetime\n",
        "import time\n",
        "import os\n",
        "x = time.time_ns()\n",
        "y = os.getpid()%10\n",
        "seed= 3*x*x + 4*x + y\n",
        "# Passing the current time as the seed value\n",
        "random.seed(seed%10000)\n",
        "\n",
        "for i in range(100):\n",
        "    print(random.randint(0, 10000), end=\"\\t\")"
      ],
      "metadata": {
        "colab": {
          "base_uri": "https://localhost:8080/"
        },
        "id": "X3GK225TXHsU",
        "outputId": "dc3193c3-868e-4fc0-e70d-c97d6aa4dd03"
      },
      "execution_count": 14,
      "outputs": [
        {
          "output_type": "stream",
          "name": "stdout",
          "text": [
            "3524\t7384\t9276\t4107\t898\t8194\t4855\t945\t6936\t4488\t3871\t7972\t6207\t372\t249\t6090\t6212\t5608\t535\t5967\t3561\t9455\t8209\t1753\t7108\t2084\t2464\t9598\t33\t3329\t8908\t177\t4793\t5867\t9451\t572\t900\t7338\t9046\t297\t8734\t3670\t2362\t7666\t2736\t4957\t5985\t5842\t8068\t1488\t6635\t8447\t425\t3578\t7579\t9018\t7728\t3527\t741\t160\t9670\t7786\t2087\t3738\t7420\t5110\t3709\t1134\t819\t1602\t6829\t8293\t6148\t6303\t8893\t1249\t8943\t2764\t8837\t4453\t316\t5338\t58\t9888\t7521\t7644\t8806\t4762\t4303\t9033\t2104\t8874\t5208\t5301\t8095\t5146\t752\t9443\t5001\t1754\t"
          ]
        }
      ]
    },
    {
      "cell_type": "code",
      "source": [
        "# Python3 code to implement the\n",
        "# approach\n",
        "import random\n",
        "from datetime import datetime\n",
        "import time\n",
        "import os\n",
        "\n",
        "# Passing the current time as the seed value\n",
        "random.seed((time.time_ns() + os.getpid()%10))\n",
        "\n",
        "for i in range(5):\n",
        "    print(random.randint(0, 10), end=\"\\t\")"
      ],
      "metadata": {
        "colab": {
          "base_uri": "https://localhost:8080/"
        },
        "id": "RHHkghOSWBav",
        "outputId": "ce622915-fdf7-447f-9814-ad5336e1a0f3"
      },
      "execution_count": 1,
      "outputs": [
        {
          "output_type": "stream",
          "name": "stdout",
          "text": [
            "6\t7\t8\t9\t5\t"
          ]
        }
      ]
    },
    {
      "cell_type": "code",
      "execution_count": null,
      "metadata": {
        "colab": {
          "base_uri": "https://localhost:8080/"
        },
        "id": "oGrsarjOdro1",
        "outputId": "c4a26e58-a413-4eef-9b4a-3aaf3165beb1"
      },
      "outputs": [
        {
          "output_type": "stream",
          "name": "stdout",
          "text": [
            "3\t0\t9\t7\t4\t"
          ]
        }
      ],
      "source": [
        "import random\n",
        "import time\n",
        "import os\n",
        "\n",
        "# Combine time in nanoseconds and process ID\n",
        "seed_value = time.time_ns() + os.getpid()\n",
        "random.seed(seed_value)\n",
        "\n",
        "for i in range(5):\n",
        "    print(random.randint(0, 10), end=\"\\t\")\n"
      ]
    },
    {
      "cell_type": "code",
      "source": [
        "# Python3 code to implement the\n",
        "# approach\n",
        "import random\n",
        "from datetime import datetime\n",
        "import time\n",
        "import os\n",
        "\n",
        "# Passing the current time as the seed value\n",
        "random.seed((time.time_ns() + os.getpid())%10)\n",
        "\n",
        "for i in range(5):\n",
        "    print(random.randint(0, 10), end=\"\\t\")"
      ],
      "metadata": {
        "colab": {
          "base_uri": "https://localhost:8080/"
        },
        "id": "rYfq2tIlgXSK",
        "outputId": "3544f2e1-d2e6-43d8-fe2e-223794ecbeb0"
      },
      "execution_count": null,
      "outputs": [
        {
          "output_type": "stream",
          "name": "stdout",
          "text": [
            "5\t2\t6\t10\t0\t"
          ]
        }
      ]
    },
    {
      "cell_type": "code",
      "source": [
        "import random\n",
        "\n",
        "def simple_mt_prng(seed):\n",
        "    random.seed(seed)\n",
        "    return [random.randint(0, 100) for _ in range(5)]  # Generate 5 random integers\n",
        "\n",
        "# Example usage\n",
        "print(simple_mt_prng(42))\n"
      ],
      "metadata": {
        "colab": {
          "base_uri": "https://localhost:8080/"
        },
        "id": "FPNY6slOf8jn",
        "outputId": "7ab17221-224a-4914-ddb8-e011293a0c60"
      },
      "execution_count": null,
      "outputs": [
        {
          "output_type": "stream",
          "name": "stdout",
          "text": [
            "[81, 14, 3, 94, 35]\n"
          ]
        }
      ]
    },
    {
      "cell_type": "code",
      "source": [],
      "metadata": {
        "id": "8UUif7-igFMx"
      },
      "execution_count": null,
      "outputs": []
    },
    {
      "cell_type": "code",
      "source": [
        "# Python3 code to implement the\n",
        "# approach\n",
        "import random\n",
        "from datetime import datetime\n",
        "\n",
        "# Passing the current time as the seed value\n",
        "random.seed(datetime.now())\n",
        "\n",
        "for i in range(5):\n",
        "    print(random.randint(0, 10), end=\"\\t\")"
      ],
      "metadata": {
        "colab": {
          "base_uri": "https://localhost:8080/"
        },
        "id": "02MaA6tzgFS4",
        "outputId": "26186cb2-88d3-43ef-f309-343ebc5f3916"
      },
      "execution_count": null,
      "outputs": [
        {
          "output_type": "stream",
          "name": "stdout",
          "text": [
            "8\t0\t4\t9\t5\t"
          ]
        },
        {
          "output_type": "stream",
          "name": "stderr",
          "text": [
            "<ipython-input-4-76e7d0a198a7>:7: DeprecationWarning: Seeding based on hashing is deprecated\n",
            "since Python 3.9 and will be removed in a subsequent version. The only \n",
            "supported seed types are: None, int, float, str, bytes, and bytearray.\n",
            "  random.seed(datetime.now())\n"
          ]
        }
      ]
    }
  ]
}