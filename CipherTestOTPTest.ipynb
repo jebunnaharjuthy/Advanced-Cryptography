{
  "nbformat": 4,
  "nbformat_minor": 0,
  "metadata": {
    "colab": {
      "provenance": [],
      "authorship_tag": "ABX9TyMvHo/QAhXEM2CQsCx9g192",
      "include_colab_link": true
    },
    "kernelspec": {
      "name": "python3",
      "display_name": "Python 3"
    },
    "language_info": {
      "name": "python"
    }
  },
  "cells": [
    {
      "cell_type": "markdown",
      "metadata": {
        "id": "view-in-github",
        "colab_type": "text"
      },
      "source": [
        "<a href=\"https://colab.research.google.com/github/jebunnaharjuthy/Advanced-Cryptography/blob/main/CipherTestOTPTest.ipynb\" target=\"_parent\"><img src=\"https://colab.research.google.com/assets/colab-badge.svg\" alt=\"Open In Colab\"/></a>"
      ]
    },
    {
      "cell_type": "markdown",
      "source": [
        "\n",
        "\n",
        "*   **Alternating Shifts: Each character alternates between two shift values (shift1 and shift2) based on its position index.**\n",
        "*   **Change non-alphabetic also**\n",
        "\n",
        "\n"
      ],
      "metadata": {
        "id": "IcqUQ75UPMJE"
      }
    },
    {
      "cell_type": "code",
      "source": [
        "def encrypt_with_all_chars(text, shift):\n",
        "    result = \"\"\n",
        "\n",
        "    for i in range(len(text)):\n",
        "        char = text[i]\n",
        "        if char.isalpha():  # Check if the character is alphabetic\n",
        "            if char.isupper():  # Encrypt uppercase characters\n",
        "                result += chr((ord(char) + shift - 65) % 26 + 65)\n",
        "            else:  # Encrypt lowercase characters\n",
        "                result += chr((ord(char) + shift - 97) % 26 + 97)\n",
        "        else:\n",
        "            # Encrypt non-alphabetic characters by shifting ASCII values\n",
        "            result += chr((ord(char) + shift) % 256)\n",
        "\n",
        "    return result\n",
        "\n",
        "# Example usage\n",
        "text = \"EncRypTion123!@#\"\n",
        "shift = 5\n",
        "print(\"Original Text  :\", text)\n",
        "print(\"Shift          :\", shift)\n",
        "print(\"Ciphered Text  :\", encrypt_with_all_chars(text, shift))\n"
      ],
      "metadata": {
        "colab": {
          "base_uri": "https://localhost:8080/"
        },
        "id": "lxYnOsg9N_Yg",
        "outputId": "807b64da-f3be-43d6-de9e-4c2484cbac24"
      },
      "execution_count": 8,
      "outputs": [
        {
          "output_type": "stream",
          "name": "stdout",
          "text": [
            "Original Text  : EncRypTion123!@#\n",
            "Shift          : 5\n",
            "Ciphered Text  : JshWduYnts678&E(\n"
          ]
        }
      ]
    },
    {
      "cell_type": "markdown",
      "source": [
        "\n",
        "\n"
      ],
      "metadata": {
        "id": "w2AX9FPYRCrs"
      }
    },
    {
      "cell_type": "code",
      "source": [
        "#A python program to illustrate Caesar Cipher Technique\n",
        "def encrypt(text,s):\n",
        "    result = \"\"\n",
        "\n",
        "    # traverse text\n",
        "    for i in range(len(text)):\n",
        "        char = text[i]\n",
        "\n",
        "        # Encrypt uppercase characters\n",
        "        if (char.isupper()):\n",
        "            result += chr((ord(char) + s-65) % 26 + 65)\n",
        "\n",
        "        # Encrypt lowercase characters\n",
        "        else:\n",
        "            result += chr((ord(char) + s - 97) % 26 + 97)\n",
        "\n",
        "    return result\n",
        "\n",
        "#check the above function\n",
        "text = \"EncRypTion\"\n",
        "s = 13\n",
        "print (\"Text  : \" + text)\n",
        "print (\"Shift : \" + str(s))\n",
        "print (\"Cipher: \" + encrypt(text,s))"
      ],
      "metadata": {
        "colab": {
          "base_uri": "https://localhost:8080/"
        },
        "id": "TVyd2OlbN-e4",
        "outputId": "08c81d0d-23d5-4085-acf7-de613def8e74"
      },
      "execution_count": 6,
      "outputs": [
        {
          "output_type": "stream",
          "name": "stdout",
          "text": [
            "Text  : EncRypTion\n",
            "Shift : 13\n",
            "Cipher: RapElcGvba\n"
          ]
        }
      ]
    },
    {
      "cell_type": "code",
      "source": [],
      "metadata": {
        "id": "1HIqHtNEN_cC"
      },
      "execution_count": null,
      "outputs": []
    },
    {
      "cell_type": "code",
      "execution_count": 1,
      "metadata": {
        "colab": {
          "base_uri": "https://localhost:8080/"
        },
        "id": "m_UmJKPOM8ed",
        "outputId": "4e25b7c2-72e1-48d1-eba9-6f03e709302c"
      },
      "outputs": [
        {
          "output_type": "stream",
          "name": "stdout",
          "text": [
            "Text  : ATTACKATONCE\n",
            "Shift : 4\n",
            "Cipher: EXXEGOEXSRGI\n"
          ]
        }
      ],
      "source": [
        "#A python program to illustrate Caesar Cipher Technique\n",
        "def encrypt(text,s):\n",
        "    result = \"\"\n",
        "\n",
        "    # traverse text\n",
        "    for i in range(len(text)):\n",
        "        char = text[i]\n",
        "\n",
        "        # Encrypt uppercase characters\n",
        "        if (char.isupper()):\n",
        "            result += chr((ord(char) + s-65) % 26 + 65)\n",
        "\n",
        "        # Encrypt lowercase characters\n",
        "        else:\n",
        "            result += chr((ord(char) + s - 97) % 26 + 97)\n",
        "\n",
        "    return result\n",
        "\n",
        "#check the above function\n",
        "text = \"ATTACKATONCE\"\n",
        "s = 4\n",
        "print (\"Text  : \" + text)\n",
        "print (\"Shift : \" + str(s))\n",
        "print (\"Cipher: \" + encrypt(text,s))"
      ]
    }
  ]
}