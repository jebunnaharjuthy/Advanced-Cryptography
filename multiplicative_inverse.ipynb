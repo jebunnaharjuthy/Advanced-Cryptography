{
  "nbformat": 4,
  "nbformat_minor": 0,
  "metadata": {
    "colab": {
      "provenance": [],
      "authorship_tag": "ABX9TyN2yLAusaZPUzfDSnZlUfd8",
      "include_colab_link": true
    },
    "kernelspec": {
      "name": "python3",
      "display_name": "Python 3"
    },
    "language_info": {
      "name": "python"
    }
  },
  "cells": [
    {
      "cell_type": "markdown",
      "metadata": {
        "id": "view-in-github",
        "colab_type": "text"
      },
      "source": [
        "<a href=\"https://colab.research.google.com/github/jebunnaharjuthy/Advanced-Cryptography/blob/main/multiplicative_inverse.ipynb\" target=\"_parent\"><img src=\"https://colab.research.google.com/assets/colab-badge.svg\" alt=\"Open In Colab\"/></a>"
      ]
    },
    {
      "cell_type": "code",
      "execution_count": 1,
      "metadata": {
        "colab": {
          "base_uri": "https://localhost:8080/"
        },
        "id": "VR_ebJOT_77-",
        "outputId": "15c39b02-aa30-4359-a96a-0e1bfd76610b"
      },
      "outputs": [
        {
          "output_type": "stream",
          "name": "stdout",
          "text": [
            "The multiplicative inverse of 3 modulo 13 is 9\n"
          ]
        }
      ],
      "source": [
        "def find_multiplicative_inverse(a, m):\n",
        "    # Ensure a is positive\n",
        "    a = a % m\n",
        "    for x in range(1, m):\n",
        "        if (a * x) % m == 1:\n",
        "            return x\n",
        "    return None  # If no inverse exists\n",
        "\n",
        "# Example: Find the multiplicative inverse of 3 modulo 13\n",
        "a = 3\n",
        "m = 13\n",
        "result = find_multiplicative_inverse(a, m)\n",
        "\n",
        "if result:\n",
        "    print(f\"The multiplicative inverse of {a} modulo {m} is {result}\")\n",
        "else:\n",
        "    print(f\"No multiplicative inverse exists for {a} modulo {m}\")\n"
      ]
    },
    {
      "cell_type": "code",
      "source": [
        "def find_multiplicative_inverse(a, m):\n",
        "    # Ensure a is positive\n",
        "    a = a % m\n",
        "    for x in range(1, m):\n",
        "        if (a * x) % m == 1:\n",
        "            return x\n",
        "    return None  # If no inverse exists\n",
        "\n",
        "# Example: Find the multiplicative inverse of 3 modulo 13\n",
        "a = int(input(\"a: \"))\n",
        "m = int(input(\"m: \"))\n",
        "result = find_multiplicative_inverse(a, m)\n",
        "\n",
        "if result:\n",
        "    print(f\"The multiplicative inverse of {a} modulo {m} is {result}\")\n",
        "else:\n",
        "    print(f\"No multiplicative inverse exists for {a} modulo {m}\")\n"
      ],
      "metadata": {
        "colab": {
          "base_uri": "https://localhost:8080/"
        },
        "id": "wA8Kd5ZIAGI8",
        "outputId": "5831570b-af9c-48f6-d6d6-511357cca32a"
      },
      "execution_count": 3,
      "outputs": [
        {
          "output_type": "stream",
          "name": "stdout",
          "text": [
            "a: 23\n",
            "m: 37\n",
            "The multiplicative inverse of 23 modulo 37 is 29\n"
          ]
        }
      ]
    }
  ]
}